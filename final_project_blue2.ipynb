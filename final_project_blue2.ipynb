{
  "cells": [
    {
      "cell_type": "markdown",
      "metadata": {
        "id": "MdOEpSw1D6pr"
      },
      "source": [
        "# Jaffle Shop Data Analysis - Final Project\n",
        "\n",
        "## Instructions\n",
        "You have been hired as a data analyst for Jaffle Shop, a growing chain of gourmet toasted sandwich restaurants. The executive team needs insights to make strategic business decisions.\n",
        "\n",
        "Using the provided datasets and Python Polars, analyze the business performance and provide data-driven recommendations. You must use Polars for all data manipulation and analysis.\n",
        "\n",
        "## Available Data\n",
        "- `Customers.csv`: Customer information\n",
        "- `Orders.csv`: Order transactions with totals and timestamps\n",
        "- `Items.csv`: Individual items within each order\n",
        "- `Products.csv`: Product catalog with prices and descriptions\n",
        "- `Stores.csv`: Store locations and opening dates\n",
        "- `Supplies.csv`: Supply costs for each product"
      ]
    },
    {
      "cell_type": "markdown",
      "metadata": {
        "id": "IHuL0pJdD6pt"
      },
      "source": [
        "## Setup and Data Loading"
      ]
    },
    {
      "cell_type": "code",
      "execution_count": 1,
      "metadata": {
        "id": "1QalYuy9D6pt"
      },
      "outputs": [],
      "source": [
        "# Import necessary libraries\n",
        "import polars as pl\n",
        "from datetime import datetime, timedelta, date\n",
        "import matplotlib.pyplot as plt\n",
        "import seaborn as sns\n",
        "\n",
        "# Set up plotting style\n",
        "plt.style.use('seaborn-v0_8-darkgrid')"
      ]
    },
    {
      "cell_type": "code",
      "execution_count": 2,
      "metadata": {
        "id": "RFVd4cY9D6pu",
        "outputId": "0a936258-d2eb-4eb5-e6e1-bd1092325733",
        "colab": {
          "base_uri": "https://localhost:8080/"
        }
      },
      "outputs": [
        {
          "output_type": "stream",
          "name": "stdout",
          "text": [
            "Dataset shapes:\n",
            "Customers: (932, 2)\n",
            "Orders: (63148, 7)\n",
            "Items: (90184, 3)\n",
            "Products: (10, 5)\n",
            "Stores: (6, 4)\n",
            "Supplies: (65, 5)\n"
          ]
        }
      ],
      "source": [
        "# Load all datasets\n",
        "customers = pl.read_csv('https://raw.githubusercontent.com/Masters-in-Management-2023-2024/final-project-jaffle-shop-blue-2/refs/heads/main//data/Customers.csv')\n",
        "orders = pl.read_csv('https://raw.githubusercontent.com/Masters-in-Management-2023-2024/final-project-jaffle-shop-blue-2/refs/heads/main/data/Orders.csv')\n",
        "items = pl.read_csv('https://raw.githubusercontent.com/Masters-in-Management-2023-2024/final-project-jaffle-shop-blue-2/refs/heads/main/data/Items.csv')\n",
        "products = pl.read_csv('https://raw.githubusercontent.com/Masters-in-Management-2023-2024/final-project-jaffle-shop-blue-2/refs/heads/main/data/Products.csv')\n",
        "stores = pl.read_csv('https://raw.githubusercontent.com/Masters-in-Management-2023-2024/final-project-jaffle-shop-blue-2/refs/heads/main/data/Stores.csv')\n",
        "supplies = pl.read_csv('https://raw.githubusercontent.com/Masters-in-Management-2023-2024/final-project-jaffle-shop-blue-2/refs/heads/main/data/Supplies.csv')\n",
        "\n",
        "# Display basic information about each dataset\n",
        "print(\"Dataset shapes:\")\n",
        "print(f\"Customers: {customers.shape}\")\n",
        "print(f\"Orders: {orders.shape}\")\n",
        "print(f\"Items: {items.shape}\")\n",
        "print(f\"Products: {products.shape}\")\n",
        "print(f\"Stores: {stores.shape}\")\n",
        "print(f\"Supplies: {supplies.shape}\")"
      ]
    },
    {
      "cell_type": "code",
      "source": [
        "customers.head(10)"
      ],
      "metadata": {
        "colab": {
          "base_uri": "https://localhost:8080/",
          "height": 412
        },
        "id": "-GWZ21VZtwWC",
        "outputId": "0e06e536-db2d-4279-fcae-0996e409f0a8"
      },
      "execution_count": 3,
      "outputs": [
        {
          "output_type": "execute_result",
          "data": {
            "text/plain": [
              "shape: (10, 2)\n",
              "┌─────────────────────────────────┬──────────────────┐\n",
              "│ id                              ┆ name             │\n",
              "│ ---                             ┆ ---              │\n",
              "│ str                             ┆ str              │\n",
              "╞═════════════════════════════════╪══════════════════╡\n",
              "│ ae3a050d-287f-4257-a778-cdb420… ┆ Anthony Wells    │\n",
              "│ 33a51363-1989-4967-93a1-b8e225… ┆ Scott Thompson   │\n",
              "│ 2f8f7de0-4c62-4b87-8494-6a50d6… ┆ Michael Walker   │\n",
              "│ 46f7be1b-f2bc-4a91-a7c3-88c141… ┆ Alicia Clark     │\n",
              "│ c616a2a2-5efc-4e22-9db1-50dfa4… ┆ Dawn Williams    │\n",
              "│ eb6593b0-95ca-4ca5-9153-41f1f2… ┆ Connor Hernandez │\n",
              "│ b515e78b-ff05-45fb-b035-8c6476… ┆ Mark Smith       │\n",
              "│ 93423179-917e-4abd-96cf-1b60df… ┆ April Morris     │\n",
              "│ aa410077-7868-4030-9a3b-7d0088… ┆ Eric Adams       │\n",
              "│ 93dfc61d-0407-42ea-b068-bc4051… ┆ Amanda Hill      │\n",
              "└─────────────────────────────────┴──────────────────┘"
            ],
            "text/html": [
              "<div><style>\n",
              ".dataframe > thead > tr,\n",
              ".dataframe > tbody > tr {\n",
              "  text-align: right;\n",
              "  white-space: pre-wrap;\n",
              "}\n",
              "</style>\n",
              "<small>shape: (10, 2)</small><table border=\"1\" class=\"dataframe\"><thead><tr><th>id</th><th>name</th></tr><tr><td>str</td><td>str</td></tr></thead><tbody><tr><td>&quot;ae3a050d-287f-4257-a778-cdb420…</td><td>&quot;Anthony Wells&quot;</td></tr><tr><td>&quot;33a51363-1989-4967-93a1-b8e225…</td><td>&quot;Scott Thompson&quot;</td></tr><tr><td>&quot;2f8f7de0-4c62-4b87-8494-6a50d6…</td><td>&quot;Michael Walker&quot;</td></tr><tr><td>&quot;46f7be1b-f2bc-4a91-a7c3-88c141…</td><td>&quot;Alicia Clark&quot;</td></tr><tr><td>&quot;c616a2a2-5efc-4e22-9db1-50dfa4…</td><td>&quot;Dawn Williams&quot;</td></tr><tr><td>&quot;eb6593b0-95ca-4ca5-9153-41f1f2…</td><td>&quot;Connor Hernandez&quot;</td></tr><tr><td>&quot;b515e78b-ff05-45fb-b035-8c6476…</td><td>&quot;Mark Smith&quot;</td></tr><tr><td>&quot;93423179-917e-4abd-96cf-1b60df…</td><td>&quot;April Morris&quot;</td></tr><tr><td>&quot;aa410077-7868-4030-9a3b-7d0088…</td><td>&quot;Eric Adams&quot;</td></tr><tr><td>&quot;93dfc61d-0407-42ea-b068-bc4051…</td><td>&quot;Amanda Hill&quot;</td></tr></tbody></table></div>"
            ]
          },
          "metadata": {},
          "execution_count": 3
        }
      ]
    },
    {
      "cell_type": "code",
      "source": [
        "orders.head(10)"
      ],
      "metadata": {
        "colab": {
          "base_uri": "https://localhost:8080/",
          "height": 412
        },
        "id": "CEwGzHCOtzvB",
        "outputId": "533bb9e9-f381-476a-8bc2-98e26e9cb0bb"
      },
      "execution_count": 4,
      "outputs": [
        {
          "output_type": "execute_result",
          "data": {
            "text/plain": [
              "shape: (10, 7)\n",
              "┌───────────────┬───────────────┬───────────────┬──────────────┬──────────┬──────────┬─────────────┐\n",
              "│ id            ┆ customer      ┆ ordered_at    ┆ store_id     ┆ subtotal ┆ tax_paid ┆ order_total │\n",
              "│ ---           ┆ ---           ┆ ---           ┆ ---          ┆ ---      ┆ ---      ┆ ---         │\n",
              "│ str           ┆ str           ┆ str           ┆ str          ┆ i64      ┆ i64      ┆ i64         │\n",
              "╞═══════════════╪═══════════════╪═══════════════╪══════════════╪══════════╪══════════╪═════════════╡\n",
              "│ 363ab5f2-78b4 ┆ ae3a050d-287f ┆ 2016-09-01T14 ┆ a9128331-08d ┆ 1700     ┆ 102      ┆ 1802        │\n",
              "│ -4227-9333-97 ┆ -4257-a778-cd ┆ :49:00        ┆ 7-41a2-b615- ┆          ┆          ┆             │\n",
              "│ 01ef…         ┆ b420…         ┆               ┆ 21283e…      ┆          ┆          ┆             │\n",
              "│ d6cdb882-aa8c ┆ 33a51363-1989 ┆ 2016-09-01T08 ┆ a9128331-08d ┆ 600      ┆ 36       ┆ 636         │\n",
              "│ -4b5a-a478-43 ┆ -4967-93a1-b8 ┆ :21:00        ┆ 7-41a2-b615- ┆          ┆          ┆             │\n",
              "│ 21ef…         ┆ e225…         ┆               ┆ 21283e…      ┆          ┆          ┆             │\n",
              "│ ca934a93-aca1 ┆ 2f8f7de0-4c62 ┆ 2016-09-01T08 ┆ a9128331-08d ┆ 700      ┆ 42       ┆ 742         │\n",
              "│ -4aeb-9786-ef ┆ -4b87-8494-6a ┆ :59:00        ┆ 7-41a2-b615- ┆          ┆          ┆             │\n",
              "│ b0da…         ┆ 50d6…         ┆               ┆ 21283e…      ┆          ┆          ┆             │\n",
              "│ ecd64383-c4df ┆ 46f7be1b-f2bc ┆ 2016-09-01T16 ┆ a9128331-08d ┆ 500      ┆ 30       ┆ 530         │\n",
              "│ -41aa-b270-f3 ┆ -4a91-a7c3-88 ┆ :42:00        ┆ 7-41a2-b615- ┆          ┆          ┆             │\n",
              "│ b110…         ┆ c141…         ┆               ┆ 21283e…      ┆          ┆          ┆             │\n",
              "│ adae1fcd-20b7 ┆ c616a2a2-5efc ┆ 2016-09-01T09 ┆ a9128331-08d ┆ 600      ┆ 36       ┆ 636         │\n",
              "│ -4f40-af1c-dc ┆ -4e22-9db1-50 ┆ :07:00        ┆ 7-41a2-b615- ┆          ┆          ┆             │\n",
              "│ 121d…         ┆ dfa4…         ┆               ┆ 21283e…      ┆          ┆          ┆             │\n",
              "│ 43565eda-548a ┆ eb6593b0-95ca ┆ 2016-09-01T08 ┆ a9128331-08d ┆ 600      ┆ 36       ┆ 636         │\n",
              "│ -4d00-afae-c4 ┆ -4ca5-9153-41 ┆ :10:00        ┆ 7-41a2-b615- ┆          ┆          ┆             │\n",
              "│ b5d3…         ┆ f1f2…         ┆               ┆ 21283e…      ┆          ┆          ┆             │\n",
              "│ 0116c37e-224e ┆ b515e78b-ff05 ┆ 2016-09-01T11 ┆ a9128331-08d ┆ 1300     ┆ 78       ┆ 1378        │\n",
              "│ -4bd6-9e94-6c ┆ -45fb-b035-8c ┆ :39:00        ┆ 7-41a2-b615- ┆          ┆          ┆             │\n",
              "│ 0588…         ┆ 6476…         ┆               ┆ 21283e…      ┆          ┆          ┆             │\n",
              "│ 3f075493-a0a0 ┆ 93423179-917e ┆ 2016-09-01T08 ┆ a9128331-08d ┆ 500      ┆ 30       ┆ 530         │\n",
              "│ -4d87-95f9-5e ┆ -4abd-96cf-1b ┆ :26:00        ┆ 7-41a2-b615- ┆          ┆          ┆             │\n",
              "│ 6f23…         ┆ 60df…         ┆               ┆ 21283e…      ┆          ┆          ┆             │\n",
              "│ ca72c9ad-9474 ┆ aa410077-7868 ┆ 2016-09-01T07 ┆ a9128331-08d ┆ 600      ┆ 36       ┆ 636         │\n",
              "│ -49fa-95f4-43 ┆ -4030-9a3b-7d ┆ :28:00        ┆ 7-41a2-b615- ┆          ┆          ┆             │\n",
              "│ 15df…         ┆ 0088…         ┆               ┆ 21283e…      ┆          ┆          ┆             │\n",
              "│ 9705e997-90ad ┆ 93dfc61d-0407 ┆ 2016-09-01T08 ┆ a9128331-08d ┆ 500      ┆ 30       ┆ 530         │\n",
              "│ -438d-991c-cd ┆ -42ea-b068-bc ┆ :25:00        ┆ 7-41a2-b615- ┆          ┆          ┆             │\n",
              "│ 109c…         ┆ 4051…         ┆               ┆ 21283e…      ┆          ┆          ┆             │\n",
              "└───────────────┴───────────────┴───────────────┴──────────────┴──────────┴──────────┴─────────────┘"
            ],
            "text/html": [
              "<div><style>\n",
              ".dataframe > thead > tr,\n",
              ".dataframe > tbody > tr {\n",
              "  text-align: right;\n",
              "  white-space: pre-wrap;\n",
              "}\n",
              "</style>\n",
              "<small>shape: (10, 7)</small><table border=\"1\" class=\"dataframe\"><thead><tr><th>id</th><th>customer</th><th>ordered_at</th><th>store_id</th><th>subtotal</th><th>tax_paid</th><th>order_total</th></tr><tr><td>str</td><td>str</td><td>str</td><td>str</td><td>i64</td><td>i64</td><td>i64</td></tr></thead><tbody><tr><td>&quot;363ab5f2-78b4-4227-9333-9701ef…</td><td>&quot;ae3a050d-287f-4257-a778-cdb420…</td><td>&quot;2016-09-01T14:49:00&quot;</td><td>&quot;a9128331-08d7-41a2-b615-21283e…</td><td>1700</td><td>102</td><td>1802</td></tr><tr><td>&quot;d6cdb882-aa8c-4b5a-a478-4321ef…</td><td>&quot;33a51363-1989-4967-93a1-b8e225…</td><td>&quot;2016-09-01T08:21:00&quot;</td><td>&quot;a9128331-08d7-41a2-b615-21283e…</td><td>600</td><td>36</td><td>636</td></tr><tr><td>&quot;ca934a93-aca1-4aeb-9786-efb0da…</td><td>&quot;2f8f7de0-4c62-4b87-8494-6a50d6…</td><td>&quot;2016-09-01T08:59:00&quot;</td><td>&quot;a9128331-08d7-41a2-b615-21283e…</td><td>700</td><td>42</td><td>742</td></tr><tr><td>&quot;ecd64383-c4df-41aa-b270-f3b110…</td><td>&quot;46f7be1b-f2bc-4a91-a7c3-88c141…</td><td>&quot;2016-09-01T16:42:00&quot;</td><td>&quot;a9128331-08d7-41a2-b615-21283e…</td><td>500</td><td>30</td><td>530</td></tr><tr><td>&quot;adae1fcd-20b7-4f40-af1c-dc121d…</td><td>&quot;c616a2a2-5efc-4e22-9db1-50dfa4…</td><td>&quot;2016-09-01T09:07:00&quot;</td><td>&quot;a9128331-08d7-41a2-b615-21283e…</td><td>600</td><td>36</td><td>636</td></tr><tr><td>&quot;43565eda-548a-4d00-afae-c4b5d3…</td><td>&quot;eb6593b0-95ca-4ca5-9153-41f1f2…</td><td>&quot;2016-09-01T08:10:00&quot;</td><td>&quot;a9128331-08d7-41a2-b615-21283e…</td><td>600</td><td>36</td><td>636</td></tr><tr><td>&quot;0116c37e-224e-4bd6-9e94-6c0588…</td><td>&quot;b515e78b-ff05-45fb-b035-8c6476…</td><td>&quot;2016-09-01T11:39:00&quot;</td><td>&quot;a9128331-08d7-41a2-b615-21283e…</td><td>1300</td><td>78</td><td>1378</td></tr><tr><td>&quot;3f075493-a0a0-4d87-95f9-5e6f23…</td><td>&quot;93423179-917e-4abd-96cf-1b60df…</td><td>&quot;2016-09-01T08:26:00&quot;</td><td>&quot;a9128331-08d7-41a2-b615-21283e…</td><td>500</td><td>30</td><td>530</td></tr><tr><td>&quot;ca72c9ad-9474-49fa-95f4-4315df…</td><td>&quot;aa410077-7868-4030-9a3b-7d0088…</td><td>&quot;2016-09-01T07:28:00&quot;</td><td>&quot;a9128331-08d7-41a2-b615-21283e…</td><td>600</td><td>36</td><td>636</td></tr><tr><td>&quot;9705e997-90ad-438d-991c-cd109c…</td><td>&quot;93dfc61d-0407-42ea-b068-bc4051…</td><td>&quot;2016-09-01T08:25:00&quot;</td><td>&quot;a9128331-08d7-41a2-b615-21283e…</td><td>500</td><td>30</td><td>530</td></tr></tbody></table></div>"
            ]
          },
          "metadata": {},
          "execution_count": 4
        }
      ]
    },
    {
      "cell_type": "code",
      "source": [
        "items.head(10)"
      ],
      "metadata": {
        "colab": {
          "base_uri": "https://localhost:8080/",
          "height": 412
        },
        "id": "sdIDqw0cuHrh",
        "outputId": "af0fa071-bb89-49bd-f77b-e619d44a070b"
      },
      "execution_count": 5,
      "outputs": [
        {
          "output_type": "execute_result",
          "data": {
            "text/plain": [
              "shape: (10, 3)\n",
              "┌─────────────────────────────────┬─────────────────────────────────┬─────────┐\n",
              "│ id                              ┆ order_id                        ┆ sku     │\n",
              "│ ---                             ┆ ---                             ┆ ---     │\n",
              "│ str                             ┆ str                             ┆ str     │\n",
              "╞═════════════════════════════════╪═════════════════════════════════╪═════════╡\n",
              "│ 6136835c-cfa4-4308-bd65-440f7b… ┆ 363ab5f2-78b4-4227-9333-9701ef… ┆ BEV-001 │\n",
              "│ 6136835c-cfa4-4308-bd65-440f7b… ┆ 363ab5f2-78b4-4227-9333-9701ef… ┆ BEV-001 │\n",
              "│ 1a5fc7f0-1573-454a-ae79-576673… ┆ 363ab5f2-78b4-4227-9333-9701ef… ┆ JAF-002 │\n",
              "│ d32d93ca-250b-47b2-b640-cb482e… ┆ d6cdb882-aa8c-4b5a-a478-4321ef… ┆ BEV-001 │\n",
              "│ 8dabb27c-fcc2-4513-8adf-886cdc… ┆ ca934a93-aca1-4aeb-9786-efb0da… ┆ BEV-004 │\n",
              "│ 6849a62f-43ee-464c-8f1f-9d597f… ┆ ecd64383-c4df-41aa-b270-f3b110… ┆ BEV-002 │\n",
              "│ ea2ea192-7d11-4252-bd53-821a70… ┆ adae1fcd-20b7-4f40-af1c-dc121d… ┆ BEV-003 │\n",
              "│ c76056cb-bdd7-43b6-aa8d-3996ba… ┆ 43565eda-548a-4d00-afae-c4b5d3… ┆ BEV-003 │\n",
              "│ b243101b-a04c-4682-b03d-c6b8de… ┆ 0116c37e-224e-4bd6-9e94-6c0588… ┆ BEV-001 │\n",
              "│ 81bab551-4b4b-4f7a-b0a9-a7b786… ┆ 0116c37e-224e-4bd6-9e94-6c0588… ┆ BEV-004 │\n",
              "└─────────────────────────────────┴─────────────────────────────────┴─────────┘"
            ],
            "text/html": [
              "<div><style>\n",
              ".dataframe > thead > tr,\n",
              ".dataframe > tbody > tr {\n",
              "  text-align: right;\n",
              "  white-space: pre-wrap;\n",
              "}\n",
              "</style>\n",
              "<small>shape: (10, 3)</small><table border=\"1\" class=\"dataframe\"><thead><tr><th>id</th><th>order_id</th><th>sku</th></tr><tr><td>str</td><td>str</td><td>str</td></tr></thead><tbody><tr><td>&quot;6136835c-cfa4-4308-bd65-440f7b…</td><td>&quot;363ab5f2-78b4-4227-9333-9701ef…</td><td>&quot;BEV-001&quot;</td></tr><tr><td>&quot;6136835c-cfa4-4308-bd65-440f7b…</td><td>&quot;363ab5f2-78b4-4227-9333-9701ef…</td><td>&quot;BEV-001&quot;</td></tr><tr><td>&quot;1a5fc7f0-1573-454a-ae79-576673…</td><td>&quot;363ab5f2-78b4-4227-9333-9701ef…</td><td>&quot;JAF-002&quot;</td></tr><tr><td>&quot;d32d93ca-250b-47b2-b640-cb482e…</td><td>&quot;d6cdb882-aa8c-4b5a-a478-4321ef…</td><td>&quot;BEV-001&quot;</td></tr><tr><td>&quot;8dabb27c-fcc2-4513-8adf-886cdc…</td><td>&quot;ca934a93-aca1-4aeb-9786-efb0da…</td><td>&quot;BEV-004&quot;</td></tr><tr><td>&quot;6849a62f-43ee-464c-8f1f-9d597f…</td><td>&quot;ecd64383-c4df-41aa-b270-f3b110…</td><td>&quot;BEV-002&quot;</td></tr><tr><td>&quot;ea2ea192-7d11-4252-bd53-821a70…</td><td>&quot;adae1fcd-20b7-4f40-af1c-dc121d…</td><td>&quot;BEV-003&quot;</td></tr><tr><td>&quot;c76056cb-bdd7-43b6-aa8d-3996ba…</td><td>&quot;43565eda-548a-4d00-afae-c4b5d3…</td><td>&quot;BEV-003&quot;</td></tr><tr><td>&quot;b243101b-a04c-4682-b03d-c6b8de…</td><td>&quot;0116c37e-224e-4bd6-9e94-6c0588…</td><td>&quot;BEV-001&quot;</td></tr><tr><td>&quot;81bab551-4b4b-4f7a-b0a9-a7b786…</td><td>&quot;0116c37e-224e-4bd6-9e94-6c0588…</td><td>&quot;BEV-004&quot;</td></tr></tbody></table></div>"
            ]
          },
          "metadata": {},
          "execution_count": 5
        }
      ]
    },
    {
      "cell_type": "code",
      "source": [
        "products.head(10)"
      ],
      "metadata": {
        "colab": {
          "base_uri": "https://localhost:8080/",
          "height": 412
        },
        "id": "punIPJwUuJxq",
        "outputId": "0bc8aedd-5d2f-4019-a8aa-69146151d25e"
      },
      "execution_count": 6,
      "outputs": [
        {
          "output_type": "execute_result",
          "data": {
            "text/plain": [
              "shape: (10, 5)\n",
              "┌─────────┬─────────────────────────┬──────────┬───────┬─────────────────────────────────┐\n",
              "│ sku     ┆ name                    ┆ type     ┆ price ┆ description                     │\n",
              "│ ---     ┆ ---                     ┆ ---      ┆ ---   ┆ ---                             │\n",
              "│ str     ┆ str                     ┆ str      ┆ i64   ┆ str                             │\n",
              "╞═════════╪═════════════════════════╪══════════╪═══════╪═════════════════════════════════╡\n",
              "│ JAF-001 ┆ nutellaphone who dis?   ┆ jaffle   ┆ 1100  ┆ nutella and banana jaffle       │\n",
              "│ JAF-002 ┆ doctor stew             ┆ jaffle   ┆ 1100  ┆ house-made beef stew jaffle     │\n",
              "│ JAF-003 ┆ the krautback           ┆ jaffle   ┆ 1200  ┆ lamb and pork bratwurst with h… │\n",
              "│ JAF-004 ┆ flame impala            ┆ jaffle   ┆ 1400  ┆ pulled pork and pineapple al p… │\n",
              "│ JAF-005 ┆ mel-bun                 ┆ jaffle   ┆ 1200  ┆ melon and minced beef bao, in … │\n",
              "│ BEV-001 ┆ tangaroo                ┆ beverage ┆ 600   ┆ mango and tangerine smoothie    │\n",
              "│ BEV-002 ┆ chai and mighty         ┆ beverage ┆ 500   ┆ oatmilk chai latte with protei… │\n",
              "│ BEV-003 ┆ vanilla ice             ┆ beverage ┆ 600   ┆ iced coffee with house-made fr… │\n",
              "│ BEV-004 ┆ for richer or pourover  ┆ beverage ┆ 700   ┆ daily selection of single esta… │\n",
              "│ BEV-005 ┆ adele-ade               ┆ beverage ┆ 400   ┆ a kiwi and lime agua fresca, h… │\n",
              "└─────────┴─────────────────────────┴──────────┴───────┴─────────────────────────────────┘"
            ],
            "text/html": [
              "<div><style>\n",
              ".dataframe > thead > tr,\n",
              ".dataframe > tbody > tr {\n",
              "  text-align: right;\n",
              "  white-space: pre-wrap;\n",
              "}\n",
              "</style>\n",
              "<small>shape: (10, 5)</small><table border=\"1\" class=\"dataframe\"><thead><tr><th>sku</th><th>name</th><th>type</th><th>price</th><th>description</th></tr><tr><td>str</td><td>str</td><td>str</td><td>i64</td><td>str</td></tr></thead><tbody><tr><td>&quot;JAF-001&quot;</td><td>&quot;nutellaphone who dis?&quot;</td><td>&quot;jaffle&quot;</td><td>1100</td><td>&quot;nutella and banana jaffle&quot;</td></tr><tr><td>&quot;JAF-002&quot;</td><td>&quot;doctor stew&quot;</td><td>&quot;jaffle&quot;</td><td>1100</td><td>&quot;house-made beef stew jaffle&quot;</td></tr><tr><td>&quot;JAF-003&quot;</td><td>&quot;the krautback&quot;</td><td>&quot;jaffle&quot;</td><td>1200</td><td>&quot;lamb and pork bratwurst with h…</td></tr><tr><td>&quot;JAF-004&quot;</td><td>&quot;flame impala&quot;</td><td>&quot;jaffle&quot;</td><td>1400</td><td>&quot;pulled pork and pineapple al p…</td></tr><tr><td>&quot;JAF-005&quot;</td><td>&quot;mel-bun&quot;</td><td>&quot;jaffle&quot;</td><td>1200</td><td>&quot;melon and minced beef bao, in …</td></tr><tr><td>&quot;BEV-001&quot;</td><td>&quot;tangaroo&quot;</td><td>&quot;beverage&quot;</td><td>600</td><td>&quot;mango and tangerine smoothie&quot;</td></tr><tr><td>&quot;BEV-002&quot;</td><td>&quot;chai and mighty&quot;</td><td>&quot;beverage&quot;</td><td>500</td><td>&quot;oatmilk chai latte with protei…</td></tr><tr><td>&quot;BEV-003&quot;</td><td>&quot;vanilla ice&quot;</td><td>&quot;beverage&quot;</td><td>600</td><td>&quot;iced coffee with house-made fr…</td></tr><tr><td>&quot;BEV-004&quot;</td><td>&quot;for richer or pourover &quot;</td><td>&quot;beverage&quot;</td><td>700</td><td>&quot;daily selection of single esta…</td></tr><tr><td>&quot;BEV-005&quot;</td><td>&quot;adele-ade&quot;</td><td>&quot;beverage&quot;</td><td>400</td><td>&quot;a kiwi and lime agua fresca, h…</td></tr></tbody></table></div>"
            ]
          },
          "metadata": {},
          "execution_count": 6
        }
      ]
    },
    {
      "cell_type": "code",
      "source": [
        "stores.head(10)"
      ],
      "metadata": {
        "colab": {
          "base_uri": "https://localhost:8080/",
          "height": 286
        },
        "id": "rXzQmsZMuP79",
        "outputId": "78ae2470-7e21-4472-976f-a205742a5861"
      },
      "execution_count": 7,
      "outputs": [
        {
          "output_type": "execute_result",
          "data": {
            "text/plain": [
              "shape: (6, 4)\n",
              "┌─────────────────────────────────┬───────────────┬─────────────────────┬──────────┐\n",
              "│ id                              ┆ name          ┆ opened_at           ┆ tax_rate │\n",
              "│ ---                             ┆ ---           ┆ ---                 ┆ ---      │\n",
              "│ str                             ┆ str           ┆ str                 ┆ f64      │\n",
              "╞═════════════════════════════════╪═══════════════╪═════════════════════╪══════════╡\n",
              "│ a9128331-08d7-41a2-b615-21283e… ┆ Philadelphia  ┆ 2016-09-01T00:00:00 ┆ 0.06     │\n",
              "│ a2a24e87-dec8-4f5d-9c9e-0e9849… ┆ Brooklyn      ┆ 2017-03-12T00:00:00 ┆ 0.04     │\n",
              "│ e1a600e7-e70a-43a8-96fd-a6dd26… ┆ Chicago       ┆ 2018-04-29T00:00:00 ┆ 0.0625   │\n",
              "│ 0d16236e-9a7f-4cd6-a9ec-24b16f… ┆ San Francisco ┆ 2018-05-09T00:00:00 ┆ 0.075    │\n",
              "│ ca0b89cc-6d98-4b87-88e3-5a0d95… ┆ New Orleans   ┆ 2019-03-10T00:00:00 ┆ 0.04     │\n",
              "│ 1abebe31-a2a6-4554-a235-03d342… ┆ Los Angeles   ┆ 2019-09-13T00:00:00 ┆ 0.08     │\n",
              "└─────────────────────────────────┴───────────────┴─────────────────────┴──────────┘"
            ],
            "text/html": [
              "<div><style>\n",
              ".dataframe > thead > tr,\n",
              ".dataframe > tbody > tr {\n",
              "  text-align: right;\n",
              "  white-space: pre-wrap;\n",
              "}\n",
              "</style>\n",
              "<small>shape: (6, 4)</small><table border=\"1\" class=\"dataframe\"><thead><tr><th>id</th><th>name</th><th>opened_at</th><th>tax_rate</th></tr><tr><td>str</td><td>str</td><td>str</td><td>f64</td></tr></thead><tbody><tr><td>&quot;a9128331-08d7-41a2-b615-21283e…</td><td>&quot;Philadelphia&quot;</td><td>&quot;2016-09-01T00:00:00&quot;</td><td>0.06</td></tr><tr><td>&quot;a2a24e87-dec8-4f5d-9c9e-0e9849…</td><td>&quot;Brooklyn&quot;</td><td>&quot;2017-03-12T00:00:00&quot;</td><td>0.04</td></tr><tr><td>&quot;e1a600e7-e70a-43a8-96fd-a6dd26…</td><td>&quot;Chicago&quot;</td><td>&quot;2018-04-29T00:00:00&quot;</td><td>0.0625</td></tr><tr><td>&quot;0d16236e-9a7f-4cd6-a9ec-24b16f…</td><td>&quot;San Francisco&quot;</td><td>&quot;2018-05-09T00:00:00&quot;</td><td>0.075</td></tr><tr><td>&quot;ca0b89cc-6d98-4b87-88e3-5a0d95…</td><td>&quot;New Orleans&quot;</td><td>&quot;2019-03-10T00:00:00&quot;</td><td>0.04</td></tr><tr><td>&quot;1abebe31-a2a6-4554-a235-03d342…</td><td>&quot;Los Angeles&quot;</td><td>&quot;2019-09-13T00:00:00&quot;</td><td>0.08</td></tr></tbody></table></div>"
            ]
          },
          "metadata": {},
          "execution_count": 7
        }
      ]
    },
    {
      "cell_type": "code",
      "source": [
        "supplies.head(10)"
      ],
      "metadata": {
        "colab": {
          "base_uri": "https://localhost:8080/",
          "height": 412
        },
        "id": "4A37e30kuUod",
        "outputId": "60e8f31d-a0fc-44bd-e8d6-47abbdaac0c3"
      },
      "execution_count": 8,
      "outputs": [
        {
          "output_type": "execute_result",
          "data": {
            "text/plain": [
              "shape: (10, 5)\n",
              "┌─────────┬─────────────────────────────┬──────┬────────────┬─────────┐\n",
              "│ id      ┆ name                        ┆ cost ┆ perishable ┆ sku     │\n",
              "│ ---     ┆ ---                         ┆ ---  ┆ ---        ┆ ---     │\n",
              "│ str     ┆ str                         ┆ i64  ┆ bool       ┆ str     │\n",
              "╞═════════╪═════════════════════════════╪══════╪════════════╪═════════╡\n",
              "│ SUP-001 ┆ compostable cutlery - knife ┆ 7    ┆ false      ┆ JAF-001 │\n",
              "│ SUP-002 ┆ cutlery - fork              ┆ 7    ┆ false      ┆ JAF-001 │\n",
              "│ SUP-003 ┆ serving boat                ┆ 11   ┆ false      ┆ JAF-001 │\n",
              "│ SUP-004 ┆ napkin                      ┆ 4    ┆ false      ┆ JAF-001 │\n",
              "│ SUP-009 ┆ bread                       ┆ 33   ┆ true       ┆ JAF-001 │\n",
              "│ SUP-011 ┆ nutella                     ┆ 46   ┆ true       ┆ JAF-001 │\n",
              "│ SUP-012 ┆ banana                      ┆ 13   ┆ true       ┆ JAF-001 │\n",
              "│ SUP-001 ┆ compostable cutlery - knife ┆ 7    ┆ false      ┆ JAF-002 │\n",
              "│ SUP-002 ┆ cutlery - fork              ┆ 7    ┆ false      ┆ JAF-002 │\n",
              "│ SUP-003 ┆ serving boat                ┆ 11   ┆ false      ┆ JAF-002 │\n",
              "└─────────┴─────────────────────────────┴──────┴────────────┴─────────┘"
            ],
            "text/html": [
              "<div><style>\n",
              ".dataframe > thead > tr,\n",
              ".dataframe > tbody > tr {\n",
              "  text-align: right;\n",
              "  white-space: pre-wrap;\n",
              "}\n",
              "</style>\n",
              "<small>shape: (10, 5)</small><table border=\"1\" class=\"dataframe\"><thead><tr><th>id</th><th>name</th><th>cost</th><th>perishable</th><th>sku</th></tr><tr><td>str</td><td>str</td><td>i64</td><td>bool</td><td>str</td></tr></thead><tbody><tr><td>&quot;SUP-001&quot;</td><td>&quot;compostable cutlery - knife&quot;</td><td>7</td><td>false</td><td>&quot;JAF-001&quot;</td></tr><tr><td>&quot;SUP-002&quot;</td><td>&quot;cutlery - fork&quot;</td><td>7</td><td>false</td><td>&quot;JAF-001&quot;</td></tr><tr><td>&quot;SUP-003&quot;</td><td>&quot;serving boat&quot;</td><td>11</td><td>false</td><td>&quot;JAF-001&quot;</td></tr><tr><td>&quot;SUP-004&quot;</td><td>&quot;napkin&quot;</td><td>4</td><td>false</td><td>&quot;JAF-001&quot;</td></tr><tr><td>&quot;SUP-009&quot;</td><td>&quot;bread&quot;</td><td>33</td><td>true</td><td>&quot;JAF-001&quot;</td></tr><tr><td>&quot;SUP-011&quot;</td><td>&quot;nutella&quot;</td><td>46</td><td>true</td><td>&quot;JAF-001&quot;</td></tr><tr><td>&quot;SUP-012&quot;</td><td>&quot;banana&quot;</td><td>13</td><td>true</td><td>&quot;JAF-001&quot;</td></tr><tr><td>&quot;SUP-001&quot;</td><td>&quot;compostable cutlery - knife&quot;</td><td>7</td><td>false</td><td>&quot;JAF-002&quot;</td></tr><tr><td>&quot;SUP-002&quot;</td><td>&quot;cutlery - fork&quot;</td><td>7</td><td>false</td><td>&quot;JAF-002&quot;</td></tr><tr><td>&quot;SUP-003&quot;</td><td>&quot;serving boat&quot;</td><td>11</td><td>false</td><td>&quot;JAF-002&quot;</td></tr></tbody></table></div>"
            ]
          },
          "metadata": {},
          "execution_count": 8
        }
      ]
    },
    {
      "cell_type": "markdown",
      "metadata": {
        "id": "c67cTIuhD6pu"
      },
      "source": [
        "## Question 1: Revenue Performance Analysis\n",
        "\n",
        "The CFO wants to understand the company's financial performance across different dimensions. Analyze:\n",
        "- What is the total revenue generated by Jaffle Shop? (Store result in variable: `total_revenue`)\n",
        "- How does revenue vary by store location? (Store result in variable: `revenue_by_store`)\n",
        "- What are the monthly revenue trends? (Store result in variable: `monthly_revenue_trends`)\n",
        "- Which day of the week generates the most revenue? (Store result in variable: `revenue_by_day_of_week`)\n",
        "- Include at least one chart for one of these questions"
      ]
    },
    {
      "cell_type": "code",
      "execution_count": 9,
      "metadata": {
        "id": "_l49etX8D6pv",
        "colab": {
          "base_uri": "https://localhost:8080/"
        },
        "outputId": "be80f8e3-e4d4-4cd5-9090-775258146dc3"
      },
      "outputs": [
        {
          "output_type": "stream",
          "name": "stdout",
          "text": [
            "The total revenue generated by Jaffle Shop is $66,038,193.00\n"
          ]
        }
      ],
      "source": [
        "# Q1.1: Calculate total revenue\n",
        "total_revenue = orders[\"order_total\"].sum()\n",
        "print(f\"The total revenue generated by Jaffle Shop is ${total_revenue:,.2f}\")"
      ]
    },
    {
      "cell_type": "code",
      "execution_count": 10,
      "metadata": {
        "id": "zneP-8E6D6pv",
        "colab": {
          "base_uri": "https://localhost:8080/"
        },
        "outputId": "36983b45-0843-41bb-cbf0-e51d80c06557"
      },
      "outputs": [
        {
          "output_type": "stream",
          "name": "stdout",
          "text": [
            "Revenue by store is as follows:  shape: (2, 3)\n",
            "┌─────────────────────────────────┬──────────┬──────────────┐\n",
            "│ store_id                        ┆ revenue  ┆ store_name   │\n",
            "│ ---                             ┆ ---      ┆ ---          │\n",
            "│ str                             ┆ i64      ┆ str          │\n",
            "╞═════════════════════════════════╪══════════╪══════════════╡\n",
            "│ a9128331-08d7-41a2-b615-21283e… ┆ 43215565 ┆ Philadelphia │\n",
            "│ a2a24e87-dec8-4f5d-9c9e-0e9849… ┆ 22822628 ┆ Brooklyn     │\n",
            "└─────────────────────────────────┴──────────┴──────────────┘\n"
          ]
        }
      ],
      "source": [
        "# Q1.2: Revenue by store location\n",
        "revenue_by_store = (\n",
        "    orders.group_by(\"store_id\")\n",
        "    .agg(pl.col(\"order_total\").sum().alias(\"revenue\"))\n",
        "    .join(\n",
        "        stores.rename({\"id\": \"store_id\", \"name\": \"store_name\"}).select([\"store_id\", \"store_name\"]),\n",
        "        on=\"store_id\",\n",
        "        how=\"left\"\n",
        "    )\n",
        "    .sort(\"revenue\", descending=True)\n",
        ")\n",
        "\n",
        "print(\"Revenue by store is as follows: \", revenue_by_store)"
      ]
    },
    {
      "cell_type": "code",
      "execution_count": 11,
      "metadata": {
        "id": "Qbo-HojyD6pv",
        "colab": {
          "base_uri": "https://localhost:8080/"
        },
        "outputId": "a106be01-ba4c-43b5-babe-e3fd6528c97b"
      },
      "outputs": [
        {
          "output_type": "stream",
          "name": "stdout",
          "text": [
            "Monthly Revenue Trends:  shape: (12, 2)\n",
            "┌────────────┬─────────────────┐\n",
            "│ year_month ┆ monthly_revenue │\n",
            "│ ---        ┆ ---             │\n",
            "│ str        ┆ i64             │\n",
            "╞════════════╪═════════════════╡\n",
            "│ 2016-09    ┆ 1644922         │\n",
            "│ 2016-10    ┆ 1956651         │\n",
            "│ 2016-11    ┆ 2552662         │\n",
            "│ 2016-12    ┆ 3307337         │\n",
            "│ 2017-01    ┆ 3821291         │\n",
            "│ …          ┆ …               │\n",
            "│ 2017-04    ┆ 7392014         │\n",
            "│ 2017-05    ┆ 8469909         │\n",
            "│ 2017-06    ┆ 8617148         │\n",
            "│ 2017-07    ┆ 8585320         │\n",
            "│ 2017-08    ┆ 9332296         │\n",
            "└────────────┴─────────────────┘\n"
          ]
        }
      ],
      "source": [
        "# Q1.3: Monthly revenue trends\n",
        "monthly_revenue_trends = (\n",
        "    orders.with_columns(\n",
        "        pl.col(\"ordered_at\").str.to_datetime(\"%Y-%m-%dT%H:%M:%S\").alias(\"order_date\")\n",
        "    )\n",
        "    .with_columns(pl.col(\"order_date\").dt.date().alias(\"order_date_only\"))\n",
        "    .with_columns(pl.col(\"order_date_only\").dt.strftime(\"%Y-%m\").alias(\"year_month\"))\n",
        "    .group_by(\"year_month\")\n",
        "    .agg(pl.col(\"order_total\").sum().alias(\"monthly_revenue\"))\n",
        "    .sort(\"year_month\")\n",
        ")\n",
        "\n",
        "print(\"Monthly Revenue Trends: \", monthly_revenue_trends)"
      ]
    },
    {
      "cell_type": "code",
      "source": [
        "plt.figure(figsize=(10,5))\n",
        "plt.plot(\n",
        "    monthly_revenue_trends[\"year_month\"].to_list(),\n",
        "    monthly_revenue_trends[\"monthly_revenue\"].to_list(),\n",
        "    marker=\"x\"\n",
        ")\n",
        "plt.title(\"Jaffle Shop - Monthly Revenue Trends\")\n",
        "plt.xlabel(\"Month\")\n",
        "plt.ylabel(\"Revenue (in millions $)\")\n",
        "plt.xticks(rotation=45)\n",
        "plt.tight_layout()\n",
        "plt.show()"
      ],
      "metadata": {
        "colab": {
          "base_uri": "https://localhost:8080/",
          "height": 507
        },
        "id": "ihWGWSrJ6POQ",
        "outputId": "036888b1-c3d3-46aa-bc9c-1a13d0a60738"
      },
      "execution_count": 12,
      "outputs": [
        {
          "output_type": "display_data",
          "data": {
            "text/plain": [
              "<Figure size 1000x500 with 1 Axes>"
            ],
            "image/png": "[encoded data removed]"
          },
          "metadata": {}
        }
      ]
    },
    {
      "cell_type": "code",
      "execution_count": 13,
      "metadata": {
        "id": "DqrpbjKCD6pv",
        "colab": {
          "base_uri": "https://localhost:8080/"
        },
        "outputId": "cd4da719-1f53-4082-f191-55ae6cc3a11b"
      },
      "outputs": [
        {
          "output_type": "stream",
          "name": "stdout",
          "text": [
            "The revenue by day of the week is as follows: shape: (7, 2)\n",
            "┌─────────────┬──────────┐\n",
            "│ day_of_week ┆ revenue  │\n",
            "│ ---         ┆ ---      │\n",
            "│ str         ┆ i64      │\n",
            "╞═════════════╪══════════╡\n",
            "│ Wednesday   ┆ 10834569 │\n",
            "│ Monday      ┆ 10611971 │\n",
            "│ Saturday    ┆ 5981489  │\n",
            "│ Sunday      ┆ 6207799  │\n",
            "│ Friday      ┆ 10758715 │\n",
            "│ Tuesday     ┆ 10814455 │\n",
            "│ Thursday    ┆ 10829195 │\n",
            "└─────────────┴──────────┘\n"
          ]
        }
      ],
      "source": [
        "# Q1.4: Revenue by day of week\n",
        "revenue_by_day_of_week = (\n",
        "    orders.with_columns(\n",
        "        pl.col(\"ordered_at\").str.to_datetime(\"%Y-%m-%dT%H:%M:%S\").alias(\"order_date\")\n",
        "    )\n",
        "    .with_columns(pl.col(\"order_date\").dt.strftime(\"%A\").alias(\"day_of_week\"))\n",
        "    .group_by(\"day_of_week\")\n",
        "    .agg(pl.col(\"order_total\").sum().alias(\"revenue\"))\n",
        ")\n",
        "\n",
        "print(\"The revenue by day of the week is as follows:\", revenue_by_day_of_week)"
      ]
    },
    {
      "cell_type": "markdown",
      "metadata": {
        "id": "-MkrT8xMD6pv"
      },
      "source": [
        "## Question 2: Product Performance\n",
        "\n",
        "The Product Manager needs insights about the menu items:\n",
        "- What is the revenue contribution of each product category (jaffles vs beverages)? (Store result in variable: `revenue_by_category`)\n",
        "- What is the average price of products by type (jaffles vs beverages)?\n",
        "- Include at least one chart to answer one of the above questions."
      ]
    },
    {
      "cell_type": "code",
      "execution_count": 14,
      "metadata": {
        "id": "QlR-JrGND6pw",
        "colab": {
          "base_uri": "https://localhost:8080/"
        },
        "outputId": "c8ec1e29-c098-4335-b4e4-524322637c4e"
      },
      "outputs": [
        {
          "output_type": "stream",
          "name": "stdout",
          "text": [
            "Revenue by category:  shape: (2, 2)\n",
            "┌──────────┬──────────┐\n",
            "│ type     ┆ revenue  │\n",
            "│ ---      ┆ ---      │\n",
            "│ str      ┆ i64      │\n",
            "╞══════════╪══════════╡\n",
            "│ beverage ┆ 39836200 │\n",
            "│ jaffle   ┆ 22880900 │\n",
            "└──────────┴──────────┘\n"
          ]
        }
      ],
      "source": [
        "# Q2.1: Revenue by product category\n",
        "items_products = items.join(\n",
        "    products.select([\"sku\",\"type\",\"price\"]),\n",
        "    on=\"sku\",\n",
        "    how=\"left\"\n",
        ")\n",
        "items_products_orders = items_products.join(\n",
        "    orders.select([\"id\"]),\n",
        "    left_on=\"order_id\",\n",
        "    right_on=\"id\",\n",
        "    how=\"inner\"\n",
        ")\n",
        "revenue_by_category = (\n",
        "    items_products_orders.group_by(\"type\")\n",
        "    .agg(pl.col(\"price\").sum().alias(\"revenue\"))\n",
        "    .sort(\"revenue\", descending=True)\n",
        ")\n",
        "print(\"Revenue by category: \", revenue_by_category)"
      ]
    },
    {
      "cell_type": "code",
      "source": [
        "plt.figure(figsize=(6,4))\n",
        "plt.bar(\n",
        "    revenue_by_category[\"type\"],\n",
        "    revenue_by_category[\"revenue\"],\n",
        "    color=[\"#000066\", \"#c2c2d6\"]\n",
        ")\n",
        "plt.ylabel(\"Revenue (in millions $)\")\n",
        "plt.title(\"Revenue by Product Type\")\n",
        "plt.show()"
      ],
      "metadata": {
        "colab": {
          "base_uri": "https://localhost:8080/",
          "height": 384
        },
        "id": "0TAo0RTEE4Z2",
        "outputId": "97a2a26d-7700-4e7d-ee79-8b7f54c3c9a5"
      },
      "execution_count": 15,
      "outputs": [
        {
          "output_type": "display_data",
          "data": {
            "text/plain": [
              "<Figure size 600x400 with 1 Axes>"
            ],
            "image/png": "[encoded data removed]"
          },
          "metadata": {}
        }
      ]
    },
    {
      "cell_type": "code",
      "execution_count": 16,
      "metadata": {
        "id": "g9jrmunrD6pw",
        "colab": {
          "base_uri": "https://localhost:8080/"
        },
        "outputId": "e770b0e4-d307-4d02-e3f3-17c6bc394298"
      },
      "outputs": [
        {
          "output_type": "stream",
          "name": "stdout",
          "text": [
            "The average price by category is as follows:  shape: (2, 2)\n",
            "┌──────────┬───────────┐\n",
            "│ type     ┆ avg_price │\n",
            "│ ---      ┆ ---       │\n",
            "│ str      ┆ f64       │\n",
            "╞══════════╪═══════════╡\n",
            "│ beverage ┆ 560.0     │\n",
            "│ jaffle   ┆ 1200.0    │\n",
            "└──────────┴───────────┘\n"
          ]
        }
      ],
      "source": [
        "# Q2.2 Average price of products by type\n",
        "avg_price_by_category = (\n",
        "    products.group_by(\"type\")\n",
        "    .agg(pl.col(\"price\").mean().alias(\"avg_price\"))\n",
        ")\n",
        "print(\"The average price by category is as follows: \", avg_price_by_category)"
      ]
    },
    {
      "cell_type": "markdown",
      "metadata": {
        "id": "ysdbkckND6pw"
      },
      "source": [
        "## Question 3: Store Expansion Strategy\n",
        "\n",
        "The Operations Director is planning expansion strategies:\n",
        "- Which stores have the highest revenue per day since opening? (Store result in variable: `revenue_per_day_by_store`)\n",
        "- What is the relationship between local tax rates and store performance? (Store result in variable: `tax_rate_performance`)\n",
        "- Include at least one chart to answer one of the above questions."
      ]
    },
    {
      "cell_type": "code",
      "execution_count": 17,
      "metadata": {
        "id": "SXkLXqYHD6pw",
        "colab": {
          "base_uri": "https://localhost:8080/",
          "height": 161
        },
        "outputId": "fdf06f2d-e401-4ebd-9606-ba76c0cb8c9f"
      },
      "outputs": [
        {
          "output_type": "execute_result",
          "data": {
            "text/plain": [
              "shape: (2, 2)\n",
              "┌──────────────┬─────────────────┐\n",
              "│ store_name   ┆ revenue_per_day │\n",
              "│ ---          ┆ ---             │\n",
              "│ str          ┆ f64             │\n",
              "╞══════════════╪═════════════════╡\n",
              "│ Philadelphia ┆ 13187.538908    │\n",
              "│ Brooklyn     ┆ 7397.934522     │\n",
              "└──────────────┴─────────────────┘"
            ],
            "text/html": [
              "<div><style>\n",
              ".dataframe > thead > tr,\n",
              ".dataframe > tbody > tr {\n",
              "  text-align: right;\n",
              "  white-space: pre-wrap;\n",
              "}\n",
              "</style>\n",
              "<small>shape: (2, 2)</small><table border=\"1\" class=\"dataframe\"><thead><tr><th>store_name</th><th>revenue_per_day</th></tr><tr><td>str</td><td>f64</td></tr></thead><tbody><tr><td>&quot;Philadelphia&quot;</td><td>13187.538908</td></tr><tr><td>&quot;Brooklyn&quot;</td><td>7397.934522</td></tr></tbody></table></div>"
            ]
          },
          "metadata": {},
          "execution_count": 17
        }
      ],
      "source": [
        "# Q3.1: Revenue per day since opening by store\n",
        "\n",
        "stores = stores.with_columns(\n",
        "    pl.col(\"opened_at\").str.strptime(pl.Date, \"%Y-%m-%dT%H:%M:%S\").alias(\"opened_date\")\n",
        ")\n",
        "\n",
        "revenue_per_store = orders.group_by(\"store_id\").agg(\n",
        "    pl.col(\"order_total\").sum().alias(\"total_revenue\")\n",
        ")\n",
        "\n",
        "\n",
        "store_revenue = revenue_per_store.join(\n",
        "    stores.select([\"id\",\"name\",\"opened_date\"]).rename({\"id\":\"store_id\",\"name\":\"store_name\"}),\n",
        "    on=\"store_id\",\n",
        "    how=\"left\"\n",
        ")\n",
        "\n",
        "today = pl.lit(date.today())\n",
        "\n",
        "revenue_per_day_by_store = store_revenue.with_columns(\n",
        "    ((today.cast(pl.Int64) - pl.col(\"opened_date\").cast(pl.Int64)).alias(\"days_open\"))\n",
        ").with_columns(\n",
        "    (pl.col(\"total_revenue\") / pl.col(\"days_open\")).alias(\"revenue_per_day\")\n",
        ").sort(\"revenue_per_day\", descending=True)\n",
        "\n",
        "revenue_per_day_by_store.select([\"store_name\",\"revenue_per_day\"])"
      ]
    },
    {
      "cell_type": "code",
      "source": [
        "plt.figure(figsize=(8,4))\n",
        "plt.bar(\n",
        "    revenue_per_day_by_store[\"store_name\"],\n",
        "    revenue_per_day_by_store[\"revenue_per_day\"],\n",
        "    color=[\"#000066\", \"#c2c2d6\"]\n",
        ")\n",
        "plt.xticks(rotation=45)\n",
        "plt.ylabel(\"Revenue per Day ($)\")\n",
        "plt.title(\"Revenue per Day by Store\")\n",
        "plt.show()"
      ],
      "metadata": {
        "colab": {
          "base_uri": "https://localhost:8080/",
          "height": 433
        },
        "id": "ehHUZMnyHWb5",
        "outputId": "fce8d1d1-01e4-4c2b-9f7c-d783c6af7a7b"
      },
      "execution_count": 18,
      "outputs": [
        {
          "output_type": "display_data",
          "data": {
            "text/plain": [
              "<Figure size 800x400 with 1 Axes>"
            ],
            "image/png": "[encoded data removed]"
          },
          "metadata": {}
        }
      ]
    },
    {
      "cell_type": "code",
      "execution_count": 19,
      "metadata": {
        "id": "2Dv7OlmeD6pw",
        "colab": {
          "base_uri": "https://localhost:8080/",
          "height": 161
        },
        "outputId": "10639e47-7631-44b1-afc6-28dc710db1b3"
      },
      "outputs": [
        {
          "output_type": "execute_result",
          "data": {
            "text/plain": [
              "shape: (2, 3)\n",
              "┌──────────────┬──────────┬─────────────────┐\n",
              "│ store_name   ┆ tax_rate ┆ revenue_per_day │\n",
              "│ ---          ┆ ---      ┆ ---             │\n",
              "│ str          ┆ f64      ┆ f64             │\n",
              "╞══════════════╪══════════╪═════════════════╡\n",
              "│ Philadelphia ┆ 0.06     ┆ 13187.538908    │\n",
              "│ Brooklyn     ┆ 0.04     ┆ 7397.934522     │\n",
              "└──────────────┴──────────┴─────────────────┘"
            ],
            "text/html": [
              "<div><style>\n",
              ".dataframe > thead > tr,\n",
              ".dataframe > tbody > tr {\n",
              "  text-align: right;\n",
              "  white-space: pre-wrap;\n",
              "}\n",
              "</style>\n",
              "<small>shape: (2, 3)</small><table border=\"1\" class=\"dataframe\"><thead><tr><th>store_name</th><th>tax_rate</th><th>revenue_per_day</th></tr><tr><td>str</td><td>f64</td><td>f64</td></tr></thead><tbody><tr><td>&quot;Philadelphia&quot;</td><td>0.06</td><td>13187.538908</td></tr><tr><td>&quot;Brooklyn&quot;</td><td>0.04</td><td>7397.934522</td></tr></tbody></table></div>"
            ]
          },
          "metadata": {},
          "execution_count": 19
        }
      ],
      "source": [
        "# Q3.2: Tax rates vs store performance\n",
        "tax_rate_performance = revenue_per_day_by_store.join(\n",
        "    stores.select([\"id\",\"tax_rate\"]).rename({\"id\":\"store_id\"}),\n",
        "    on=\"store_id\",\n",
        "    how=\"left\"\n",
        ").select([\"store_name\",\"tax_rate\",\"revenue_per_day\"]).sort(\"revenue_per_day\", descending=True)\n",
        "\n",
        "tax_rate_performance"
      ]
    },
    {
      "cell_type": "markdown",
      "metadata": {
        "id": "3txrbcyOD6pw"
      },
      "source": [
        "## Question 4: Customer Behavior Analysis\n",
        "\n",
        "The Marketing Manager wants to understand customer patterns:\n",
        "- What is the distribution of order values? (Store result in variable: `order_value_distribution`)\n",
        "- How many customers are repeat customers? (Store result in variable: `repeat_customer_analysis`)\n",
        "- Which customers contribute the most to revenue? (Store result in variable: `top_revenue_customers`)"
      ]
    },
    {
      "cell_type": "code",
      "execution_count": 20,
      "metadata": {
        "id": "ssWunR25D6pw",
        "colab": {
          "base_uri": "https://localhost:8080/"
        },
        "outputId": "c439e768-cd2a-4553-d569-9e1a3eff3963"
      },
      "outputs": [
        {
          "output_type": "stream",
          "name": "stdout",
          "text": [
            "shape: (9, 2)\n",
            "┌────────────┬─────────────┐\n",
            "│ statistic  ┆ order_total │\n",
            "│ ---        ┆ ---         │\n",
            "│ str        ┆ f64         │\n",
            "╞════════════╪═════════════╡\n",
            "│ count      ┆ 63148.0     │\n",
            "│ null_count ┆ 0.0         │\n",
            "│ mean       ┆ 1045.76856  │\n",
            "│ std        ┆ 1025.930713 │\n",
            "│ min        ┆ 0.0         │\n",
            "│ 25%        ┆ 530.0       │\n",
            "│ 50%        ┆ 636.0       │\n",
            "│ 75%        ┆ 1165.0      │\n",
            "│ max        ┆ 10281.0     │\n",
            "└────────────┴─────────────┘\n"
          ]
        }
      ],
      "source": [
        "# Q4.1: Distribution of order values\n",
        "order_value_distribution = (\n",
        "    orders\n",
        "    .select(pl.col(\"order_total\"))\n",
        "    .describe()\n",
        ")\n",
        "print(order_value_distribution)"
      ]
    },
    {
      "cell_type": "code",
      "execution_count": 21,
      "metadata": {
        "id": "D5WNGzjvD6pw",
        "colab": {
          "base_uri": "https://localhost:8080/"
        },
        "outputId": "30b2ed36-34dd-4c5a-e807-ef01d925be71"
      },
      "outputs": [
        {
          "output_type": "stream",
          "name": "stdout",
          "text": [
            "shape: (2, 2)\n",
            "┌───────────┬───────────────┐\n",
            "│ is_repeat ┆ num_customers │\n",
            "│ ---       ┆ ---           │\n",
            "│ bool      ┆ u32           │\n",
            "╞═══════════╪═══════════════╡\n",
            "│ true      ┆ 920           │\n",
            "│ false     ┆ 10            │\n",
            "└───────────┴───────────────┘\n"
          ]
        }
      ],
      "source": [
        "# Q4.2: Repeat customers analysis\n",
        "repeat_customer_analysis = (\n",
        "    orders\n",
        "    .group_by(\"customer\")\n",
        "    .agg(pl.count(\"id\").alias(\"order_count\"))\n",
        "    .with_columns((pl.col(\"order_count\") > 1).alias(\"is_repeat\"))\n",
        "    .group_by(\"is_repeat\")\n",
        "    .agg(pl.count(\"customer\").alias(\"num_customers\"))\n",
        ")\n",
        "print(repeat_customer_analysis)"
      ]
    },
    {
      "cell_type": "code",
      "execution_count": 22,
      "metadata": {
        "id": "_gU3g_qlD6pw",
        "colab": {
          "base_uri": "https://localhost:8080/"
        },
        "outputId": "62ae41da-cf62-4903-fc4c-e70d9730d1a3"
      },
      "outputs": [
        {
          "output_type": "stream",
          "name": "stdout",
          "text": [
            "Our top 10 sources of revenue and their respective name shape: (10, 2)\n",
            "┌───────────────┬──────────────────────┐\n",
            "│ total_revenue ┆ name                 │\n",
            "│ ---           ┆ ---                  │\n",
            "│ i64           ┆ str                  │\n",
            "╞═══════════════╪══════════════════════╡\n",
            "│ 262647        ┆ David Leonard        │\n",
            "│ 259037        ┆ Jesse Moore          │\n",
            "│ 258515        ┆ Diane Davis          │\n",
            "│ 252703        ┆ Holly Johnson        │\n",
            "│ 249821        ┆ Gregory Hayes        │\n",
            "│ 247510        ┆ Julie Robinson       │\n",
            "│ 246325        ┆ Christopher Robinson │\n",
            "│ 244102        ┆ Douglas Burgess      │\n",
            "│ 239641        ┆ Jacob Brown          │\n",
            "│ 237098        ┆ Jenny Harrell        │\n",
            "└───────────────┴──────────────────────┘\n"
          ]
        }
      ],
      "source": [
        "# Q4.3: Top revenue contributors\n",
        "top_revenue_customers = (\n",
        "    orders\n",
        "    .group_by(\"customer\")\n",
        "    .agg(pl.col(\"order_total\").sum().alias(\"total_revenue\"))\n",
        "    .join(customers, left_on=\"customer\", right_on=\"id\", how=\"left\")\n",
        "    .sort(\"total_revenue\", descending=True)\n",
        "    .head(10)\n",
        ")\n",
        "print(\"Our top 10 sources of revenue and their respective name\", top_revenue_customers.select(\"total_revenue\", \"name\"))"
      ]
    },
    {
      "cell_type": "markdown",
      "metadata": {
        "id": "I5dejmBzD6pw"
      },
      "source": [
        "## Question 5: Profitability Deep Dive\n",
        "\n",
        "The CEO needs a comprehensive profitability analysis:\n",
        "- Calculate the gross margin for each product (consider supply costs) (Store result in variable: `product_margins`)\n",
        "- Which products have the highest profit margins? (Store result in variable: `highest_margin_products`)\n",
        "- What is the relationship between order size and profitability? (Store result in variable: `order_size_profitability`)\n",
        "- How does profitability vary across different stores? (Store result in variable: `store_profitability`)"
      ]
    },
    {
      "cell_type": "code",
      "execution_count": 23,
      "metadata": {
        "id": "3dMxJD28D6pw",
        "colab": {
          "base_uri": "https://localhost:8080/"
        },
        "outputId": "60f48d3a-d39e-4997-9b45-3879a3a51f90"
      },
      "outputs": [
        {
          "output_type": "stream",
          "name": "stdout",
          "text": [
            "Jaffle products margins: shape: (10, 8)\n",
            "┌─────────┬──────────────┬──────────┬───────┬─────────────┬────────────┬─────────────┬─────────────┐\n",
            "│ sku     ┆ name         ┆ type     ┆ price ┆ description ┆ total_cost ┆ profit_per_ ┆ gross_margi │\n",
            "│ ---     ┆ ---          ┆ ---      ┆ ---   ┆ ---         ┆ ---        ┆ unit        ┆ n           │\n",
            "│ str     ┆ str          ┆ str      ┆ i64   ┆ str         ┆ i64        ┆ ---         ┆ ---         │\n",
            "│         ┆              ┆          ┆       ┆             ┆            ┆ i64         ┆ f64         │\n",
            "╞═════════╪══════════════╪══════════╪═══════╪═════════════╪════════════╪═════════════╪═════════════╡\n",
            "│ JAF-001 ┆ nutellaphone ┆ jaffle   ┆ 1100  ┆ nutella and ┆ 121        ┆ 979         ┆ 0.89        │\n",
            "│         ┆ who dis?     ┆          ┆       ┆ banana      ┆            ┆             ┆             │\n",
            "│         ┆              ┆          ┆       ┆ jaffle      ┆            ┆             ┆             │\n",
            "│ JAF-002 ┆ doctor stew  ┆ jaffle   ┆ 1100  ┆ house-made  ┆ 251        ┆ 849         ┆ 0.771818    │\n",
            "│         ┆              ┆          ┆       ┆ beef stew   ┆            ┆             ┆             │\n",
            "│         ┆              ┆          ┆       ┆ jaffle      ┆            ┆             ┆             │\n",
            "│ JAF-003 ┆ the          ┆ jaffle   ┆ 1200  ┆ lamb and    ┆ 366        ┆ 834         ┆ 0.695       │\n",
            "│         ┆ krautback    ┆          ┆       ┆ pork        ┆            ┆             ┆             │\n",
            "│         ┆              ┆          ┆       ┆ bratwurst   ┆            ┆             ┆             │\n",
            "│         ┆              ┆          ┆       ┆ with h…     ┆            ┆             ┆             │\n",
            "│ JAF-004 ┆ flame impala ┆ jaffle   ┆ 1400  ┆ pulled pork ┆ 343        ┆ 1057        ┆ 0.755       │\n",
            "│         ┆              ┆          ┆       ┆ and         ┆            ┆             ┆             │\n",
            "│         ┆              ┆          ┆       ┆ pineapple   ┆            ┆             ┆             │\n",
            "│         ┆              ┆          ┆       ┆ al p…       ┆            ┆             ┆             │\n",
            "│ JAF-005 ┆ mel-bun      ┆ jaffle   ┆ 1200  ┆ melon and   ┆ 239        ┆ 961         ┆ 0.800833    │\n",
            "│         ┆              ┆          ┆       ┆ minced beef ┆            ┆             ┆             │\n",
            "│         ┆              ┆          ┆       ┆ bao, in …   ┆            ┆             ┆             │\n",
            "│ BEV-001 ┆ tangaroo     ┆ beverage ┆ 600   ┆ mango and   ┆ 82         ┆ 518         ┆ 0.863333    │\n",
            "│         ┆              ┆          ┆       ┆ tangerine   ┆            ┆             ┆             │\n",
            "│         ┆              ┆          ┆       ┆ smoothie    ┆            ┆             ┆             │\n",
            "│ BEV-002 ┆ chai and     ┆ beverage ┆ 500   ┆ oatmilk     ┆ 175        ┆ 325         ┆ 0.65        │\n",
            "│         ┆ mighty       ┆          ┆       ┆ chai latte  ┆            ┆             ┆             │\n",
            "│         ┆              ┆          ┆       ┆ with        ┆            ┆             ┆             │\n",
            "│         ┆              ┆          ┆       ┆ protei…     ┆            ┆             ┆             │\n",
            "│ BEV-003 ┆ vanilla ice  ┆ beverage ┆ 600   ┆ iced coffee ┆ 154        ┆ 446         ┆ 0.743333    │\n",
            "│         ┆              ┆          ┆       ┆ with        ┆            ┆             ┆             │\n",
            "│         ┆              ┆          ┆       ┆ house-made  ┆            ┆             ┆             │\n",
            "│         ┆              ┆          ┆       ┆ fr…         ┆            ┆             ┆             │\n",
            "│ BEV-004 ┆ for richer   ┆ beverage ┆ 700   ┆ daily       ┆ 82         ┆ 618         ┆ 0.882857    │\n",
            "│         ┆ or pourover  ┆          ┆       ┆ selection   ┆            ┆             ┆             │\n",
            "│         ┆              ┆          ┆       ┆ of single   ┆            ┆             ┆             │\n",
            "│         ┆              ┆          ┆       ┆ esta…       ┆            ┆             ┆             │\n",
            "│ BEV-005 ┆ adele-ade    ┆ beverage ┆ 400   ┆ a kiwi and  ┆ 63         ┆ 337         ┆ 0.8425      │\n",
            "│         ┆              ┆          ┆       ┆ lime agua   ┆            ┆             ┆             │\n",
            "│         ┆              ┆          ┆       ┆ fresca, h…  ┆            ┆             ┆             │\n",
            "└─────────┴──────────────┴──────────┴───────┴─────────────┴────────────┴─────────────┴─────────────┘\n"
          ]
        }
      ],
      "source": [
        "# Q5.1: Calculate gross margin per product\n",
        "product_costs = (\n",
        "    supplies\n",
        "    .group_by(\"sku\")\n",
        "    .agg(pl.sum(\"cost\").alias(\"total_cost\"))\n",
        ")\n",
        "\n",
        "product_margins = (\n",
        "    products\n",
        "    .join(product_costs, on=\"sku\", how=\"left\")\n",
        "    .with_columns(\n",
        "        (pl.col(\"price\") - pl.col(\"total_cost\")).alias(\"profit_per_unit\"),\n",
        "        ((pl.col(\"price\") - pl.col(\"total_cost\")) / pl.col(\"price\")).alias(\"gross_margin\")\n",
        "    )\n",
        ")\n",
        "\n",
        "print(\"Jaffle products margins:\", product_margins)"
      ]
    },
    {
      "cell_type": "code",
      "execution_count": 24,
      "metadata": {
        "id": "bCTFm0XGD6px",
        "colab": {
          "base_uri": "https://localhost:8080/"
        },
        "outputId": "f6bfff7b-f66b-4a8d-f358-b095e456e53a"
      },
      "outputs": [
        {
          "output_type": "stream",
          "name": "stdout",
          "text": [
            "Top 5 Products with highest margins: shape: (5, 7)\n",
            "┌─────────┬───────────────────────┬──────────┬───────┬────────────┬─────────────────┬──────────────┐\n",
            "│ sku     ┆ name                  ┆ type     ┆ price ┆ total_cost ┆ profit_per_unit ┆ gross_margin │\n",
            "│ ---     ┆ ---                   ┆ ---      ┆ ---   ┆ ---        ┆ ---             ┆ ---          │\n",
            "│ str     ┆ str                   ┆ str      ┆ i64   ┆ i64        ┆ i64             ┆ f64          │\n",
            "╞═════════╪═══════════════════════╪══════════╪═══════╪════════════╪═════════════════╪══════════════╡\n",
            "│ JAF-001 ┆ nutellaphone who dis? ┆ jaffle   ┆ 1100  ┆ 121        ┆ 979             ┆ 0.89         │\n",
            "│ BEV-004 ┆ for richer or         ┆ beverage ┆ 700   ┆ 82         ┆ 618             ┆ 0.882857     │\n",
            "│         ┆ pourover              ┆          ┆       ┆            ┆                 ┆              │\n",
            "│ BEV-001 ┆ tangaroo              ┆ beverage ┆ 600   ┆ 82         ┆ 518             ┆ 0.863333     │\n",
            "│ BEV-005 ┆ adele-ade             ┆ beverage ┆ 400   ┆ 63         ┆ 337             ┆ 0.8425       │\n",
            "│ JAF-005 ┆ mel-bun               ┆ jaffle   ┆ 1200  ┆ 239        ┆ 961             ┆ 0.800833     │\n",
            "└─────────┴───────────────────────┴──────────┴───────┴────────────┴─────────────────┴──────────────┘\n"
          ]
        }
      ],
      "source": [
        "# Q5.2: Products with highest profit margins\n",
        "highest_margin_products = (\n",
        "    product_margins\n",
        "    .sort(\"gross_margin\", descending=True)\n",
        "    .select([\"sku\", \"name\", \"type\", \"price\", \"total_cost\", \"profit_per_unit\", \"gross_margin\"])\n",
        "    .head(5)\n",
        ")\n",
        "print(\"Top 5 Products with highest margins:\", highest_margin_products)"
      ]
    },
    {
      "cell_type": "code",
      "execution_count": 25,
      "metadata": {
        "id": "vv6PT241D6px",
        "colab": {
          "base_uri": "https://localhost:8080/"
        },
        "outputId": "accb0afe-7136-40aa-92f4-213489da3855"
      },
      "outputs": [
        {
          "output_type": "stream",
          "name": "stdout",
          "text": [
            "Table showing order size, order revenue and order_profit: shape: (62_642, 5)\n",
            "┌───────────────────────────┬────────────┬───────────────┬──────────────┬──────────────────────────┐\n",
            "│ order_id                  ┆ order_size ┆ order_revenue ┆ order_profit ┆ store_id                 │\n",
            "│ ---                       ┆ ---        ┆ ---           ┆ ---          ┆ ---                      │\n",
            "│ str                       ┆ u32        ┆ i64           ┆ i64          ┆ str                      │\n",
            "╞═══════════════════════════╪════════════╪═══════════════╪══════════════╪══════════════════════════╡\n",
            "│ 2d1ccbca-31b6-4fff-ae9e-c ┆ 1          ┆ 400           ┆ 337          ┆ a2a24e87-dec8-4f5d-9c9e- │\n",
            "│ 0d0f5…                    ┆            ┆               ┆              ┆ 0e9849…                  │\n",
            "│ 653395a2-cbe0-4758-91d2-7 ┆ 1          ┆ 1100          ┆ 849          ┆ a9128331-08d7-41a2-b615- │\n",
            "│ 4d10c…                    ┆            ┆               ┆              ┆ 21283e…                  │\n",
            "│ 3e688182-49ea-4eb5-9f7e-5 ┆ 1          ┆ 700           ┆ 618          ┆ a2a24e87-dec8-4f5d-9c9e- │\n",
            "│ 19265…                    ┆            ┆               ┆              ┆ 0e9849…                  │\n",
            "│ b0ce1f4b-501a-4eb8-89a9-1 ┆ 2          ┆ 1900          ┆ 1382         ┆ a2a24e87-dec8-4f5d-9c9e- │\n",
            "│ 731b7…                    ┆            ┆               ┆              ┆ 0e9849…                  │\n",
            "│ a6d831cb-22a5-41a8-b46c-6 ┆ 6          ┆ 5100          ┆ 3879         ┆ a9128331-08d7-41a2-b615- │\n",
            "│ 40306…                    ┆            ┆               ┆              ┆ 21283e…                  │\n",
            "│ …                         ┆ …          ┆ …             ┆ …            ┆ …                        │\n",
            "│ 00935e17-c594-4b33-86c9-3 ┆ 1          ┆ 700           ┆ 618          ┆ a9128331-08d7-41a2-b615- │\n",
            "│ 0d918…                    ┆            ┆               ┆              ┆ 21283e…                  │\n",
            "│ 6106a778-d202-4331-ab63-e ┆ 5          ┆ 3700          ┆ 2794         ┆ a9128331-08d7-41a2-b615- │\n",
            "│ 262e0…                    ┆            ┆               ┆              ┆ 21283e…                  │\n",
            "│ b5d38e22-5b2f-41df-a8e5-d ┆ 1          ┆ 600           ┆ 518          ┆ a9128331-08d7-41a2-b615- │\n",
            "│ b5c3a…                    ┆            ┆               ┆              ┆ 21283e…                  │\n",
            "│ 12ca5eed-3352-4ed8-9d03-d ┆ 2          ┆ 1700          ┆ 1286         ┆ a2a24e87-dec8-4f5d-9c9e- │\n",
            "│ f4431…                    ┆            ┆               ┆              ┆ 0e9849…                  │\n",
            "│ aa16ac81-6ee6-4e3a-916c-2 ┆ 1          ┆ 400           ┆ 337          ┆ a9128331-08d7-41a2-b615- │\n",
            "│ a5fb3…                    ┆            ┆               ┆              ┆ 21283e…                  │\n",
            "└───────────────────────────┴────────────┴───────────────┴──────────────┴──────────────────────────┘\n"
          ]
        }
      ],
      "source": [
        "# Q5.3: Order size vs profitability\n",
        "items_with_price_cost = (\n",
        "    items\n",
        "    .join(products, on=\"sku\", how=\"left\")\n",
        "    .join(product_costs, on=\"sku\", how=\"left\")\n",
        "    .with_columns(\n",
        "        (pl.col(\"price\") - pl.col(\"total_cost\")).alias(\"profit_per_item\")\n",
        "    )\n",
        ")\n",
        "\n",
        "order_size_profitability = (\n",
        "    items_with_price_cost\n",
        "    .group_by(\"order_id\")\n",
        "    .agg([\n",
        "        pl.count(\"sku\").alias(\"order_size\"),\n",
        "        pl.sum(\"price\").alias(\"order_revenue\"),\n",
        "        pl.sum(\"profit_per_item\").alias(\"order_profit\")\n",
        "    ])\n",
        "    .join(orders.select([\"id\", \"store_id\"]), left_on=\"order_id\", right_on=\"id\", how=\"left\")\n",
        ")\n",
        "\n",
        "print(\"Table showing order size, order revenue and order_profit:\", order_size_profitability)"
      ]
    },
    {
      "cell_type": "code",
      "execution_count": 26,
      "metadata": {
        "id": "1JMLwabUD6px",
        "colab": {
          "base_uri": "https://localhost:8080/"
        },
        "outputId": "dd50d84f-7e1a-49be-dd3e-c047bcc1b1ce"
      },
      "outputs": [
        {
          "output_type": "stream",
          "name": "stdout",
          "text": [
            "Profit by store analysis: shape: (2, 5)\n",
            "┌──────────────┬────────────┬────────────────┬──────────────────────┬──────────────┐\n",
            "│ name         ┆ num_orders ┆ avg_order_size ┆ avg_profit_per_order ┆ total_profit │\n",
            "│ ---          ┆ ---        ┆ ---            ┆ ---                  ┆ ---          │\n",
            "│ str          ┆ u32        ┆ f64            ┆ f64                  ┆ i64          │\n",
            "╞══════════════╪════════════╪════════════════╪══════════════════════╪══════════════╡\n",
            "│ Philadelphia ┆ 40492      ┆ 1.441593       ┆ 799.122296           ┆ 32358060     │\n",
            "│ Brooklyn     ┆ 22150      ┆ 1.436163       ┆ 785.934131           ┆ 17408441     │\n",
            "└──────────────┴────────────┴────────────────┴──────────────────────┴──────────────┘\n"
          ]
        }
      ],
      "source": [
        "# Q5.4: Profitability by store\n",
        "store_profitability = (\n",
        "    order_size_profitability\n",
        "    .group_by(\"store_id\")\n",
        "    .agg([\n",
        "        pl.mean(\"order_profit\").alias(\"avg_profit_per_order\"),\n",
        "        pl.sum(\"order_profit\").alias(\"total_profit\"),\n",
        "        pl.mean(\"order_size\").alias(\"avg_order_size\"),\n",
        "        pl.count(\"order_id\").alias(\"num_orders\")\n",
        "    ])\n",
        "    .join(stores.select([\"id\", \"name\"]), left_on=\"store_id\", right_on=\"id\", how=\"left\")\n",
        "    .select([\"name\", \"num_orders\", \"avg_order_size\", \"avg_profit_per_order\", \"total_profit\"])\n",
        "    .sort(\"total_profit\", descending=True)\n",
        ")\n",
        "\n",
        "print(\"Profit by store analysis:\", store_profitability)"
      ]
    },
    {
      "cell_type": "markdown",
      "metadata": {
        "id": "dU-pgpt1D6px"
      },
      "source": [
        "## Question 6: Business Optimization Recommendations\n",
        "\n",
        "Based on your analysis, provide three specific, data-driven recommendations to improve business performance. Support each recommendation with relevant metrics and visualizations."
      ]
    },
    {
      "cell_type": "markdown",
      "metadata": {
        "id": "kXryjHn5D6px"
      },
      "source": [
        "### Recommendation 1:\n",
        "Start operating in more than 2 stores."
      ]
    },
    {
      "cell_type": "code",
      "execution_count": 27,
      "metadata": {
        "id": "Ef1qylnwD6px",
        "colab": {
          "base_uri": "https://localhost:8080/"
        },
        "outputId": "712a4261-3a1f-4ae1-fcb4-c112a66f3a10"
      },
      "outputs": [
        {
          "output_type": "stream",
          "name": "stdout",
          "text": [
            "The number of stores we have is 6 they are: ['Philadelphia', 'Brooklyn', 'Chicago', 'San Francisco', 'New Orleans', 'Los Angeles'] but only 2 stores show in orders and are creating profit: ['Philadelphia', 'Brooklyn']\n"
          ]
        }
      ],
      "source": [
        "# Supporting analysis for Recommendation 1\n",
        "print(\n",
        "    \"The number of stores we have is\", stores['name'].n_unique(),\n",
        "    \"they are:\", stores['name'].to_list(),\n",
        "    \"but only\", revenue_by_store[\"store_name\"].n_unique(),\n",
        "    \"stores show in orders and are creating profit:\", revenue_by_store['store_name'].to_list()\n",
        ")\n"
      ]
    },
    {
      "cell_type": "markdown",
      "metadata": {
        "id": "_tv_pzhmD6px"
      },
      "source": [
        "### Recommendation 2:\n",
        "Introduce weekend-focused promotions such as discounts, special jaffle combos, and events to drive traffic and increase weekend revenue."
      ]
    },
    {
      "cell_type": "code",
      "execution_count": 28,
      "metadata": {
        "id": "jsHG28BpD6px",
        "colab": {
          "base_uri": "https://localhost:8080/",
          "height": 512
        },
        "outputId": "a4cc9438-063e-4b59-e29a-6e25e15e6bbc"
      },
      "outputs": [
        {
          "output_type": "stream",
          "name": "stderr",
          "text": [
            "/tmp/ipython-input-4175532582.py:11: FutureWarning: \n",
            "\n",
            "Passing `palette` without assigning `hue` is deprecated and will be removed in v0.14.0. Assign the `x` variable to `hue` and set `legend=False` for the same effect.\n",
            "\n",
            "  sns.barplot(x=days, y=revenue, palette=colors)\n"
          ]
        },
        {
          "output_type": "display_data",
          "data": {
            "text/plain": [
              "<Figure size 800x400 with 1 Axes>"
            ],
            "image/png": "[encoded data removed]"
          },
          "metadata": {}
        }
      ],
      "source": [
        "# Supporting analysis for Recommendation 2\n",
        "\n",
        "sorted_revenue = revenue_by_day_of_week.sort(\"revenue\", descending=True)\n",
        "\n",
        "days = sorted_revenue['day_of_week'].to_list()\n",
        "revenue = sorted_revenue['revenue'].to_list()\n",
        "\n",
        "colors = ['#000066' if day in ['Saturday', 'Sunday'] else '#c2c2d6' for day in days]\n",
        "\n",
        "plt.figure(figsize=(8,4))\n",
        "sns.barplot(x=days, y=revenue, palette=colors)\n",
        "plt.title(\"Revenue by Day of the Week (Most to Least)\")\n",
        "plt.ylabel(\"Revenue ($)\")\n",
        "plt.xlabel(\"Day of Week\")\n",
        "plt.show()"
      ]
    },
    {
      "cell_type": "markdown",
      "metadata": {
        "id": "PyEQz-9qD6px"
      },
      "source": [
        "### Recommendation 3:\n",
        "Introduce bundle promotions or “meal deals”. For example, “Buy 2 jaffles + 1 beverage at a discount”, to encourage customers to increase their order size. This would leverage the proven positive relationship between order size and profitability, boosting overall margins."
      ]
    },
    {
      "cell_type": "code",
      "execution_count": 29,
      "metadata": {
        "id": "b67oPA_SD6px",
        "colab": {
          "base_uri": "https://localhost:8080/",
          "height": 557
        },
        "outputId": "651aff1e-873f-478d-f0e4-8c50da332825"
      },
      "outputs": [
        {
          "output_type": "display_data",
          "data": {
            "text/plain": [
              "<Figure size 800x600 with 1 Axes>"
            ],
            "image/png": "[encoded data removed]"
          },
          "metadata": {}
        }
      ],
      "source": [
        "# Supporting analysis for Recommendation 3\n",
        "plt.figure(figsize=(8,6))\n",
        "plt.scatter(\n",
        "    order_size_profitability[\"order_size\"].to_list(),\n",
        "    order_size_profitability[\"order_profit\"].to_list(),\n",
        "    alpha=0.5\n",
        ")\n",
        "plt.xlabel(\"Order Size (# items)\")\n",
        "plt.ylabel(\"Order Profit ($)\")\n",
        "plt.title(\"Relationship between Order Size and Profitability\")\n",
        "plt.show()"
      ]
    },
    {
      "cell_type": "markdown",
      "metadata": {
        "id": "1tKpSGQFD6px"
      },
      "source": [
        "## Executive Summary\n",
        "\n",
        "From our analysis of The Jaffle Shop's six data sets we determined several insights into the company's operational and financial performance. This allowed us to define some areas for strategic improvement.  \n",
        "\n",
        "The Philadelphia (USD43,215,565) and Brooklyn (USD22,822,628) locations accounted for all the company's total revenue (USD66,038,193). Meaning the company has four locations (Chicago, San Francisco, New Orleans, and Los Angeles) that are generating no revenue – suggesting they are likely non-operational. The company has seen strong monthly growth from September 2016 to August 2017. However, weekend revenue for the company is significantly lower than weekday earnings. Additionally, beverages contribute more than 17 million dollars more than the sandwiches themselves despite having higher profit margins. Importantly, 920 of the company's 930 total customers are repeat buyers meaning a heavy emphasis on customer service should be of utmost importance.  \n",
        "\n",
        "To continue growth Jaffle Shop should introduce weekend promotions to drive regular customers back into the shop. They should prioritize customer service in the two locations that are open. Opening the four dormant locations would significantly boost revenue. We suggest adding “Meal Deals” as an option for customers to help increase the size of customer's orders. “Buy 2 Jaffles and get 1 beverage at discount” would help increase revenue for the Jaffles – the most profitable items on the menu.  \n",
        "\n",
        "### Key Findings:\n",
        "1. Only 2 unique stores in orders: Brooklyn and Philadelphia.\n",
        "2. Revenue on Saturday and Sunday is much lower than on weekdays, despite being potential high-traffic days.\n",
        "3. The scatter plot shows a clear upward trend — orders with a higher number of items generate significantly higher profit. However, most orders cluster at small sizes (2–4 items).\n",
        "\n",
        "### Strategic Recommendations:\n",
        "1. Start operating in San Francisco, Los Angeles, Chicago and New Orleans.\n",
        "2. Introduce weekend-focused promotions such as discounts, special jaffle combos, and events to drive traffic and increase weekend revenue.\n",
        "3. Introduce bundle promotions or “meal deals”. For example “Buy 2 jaffles + 1 beverage at a discount” to encourage customers to increase their order size. This would leverage the proven positive relationship between order size and profitability, boosting overall margins."
      ]
    },
    {
      "cell_type": "code",
      "source": [],
      "metadata": {
        "id": "GJBLJGLUc7LG"
      },
      "execution_count": 29,
      "outputs": []
    }
  ],
  "metadata": {
    "kernelspec": {
      "display_name": "opan5510-finalproject",
      "language": "python",
      "name": "python3"
    },
    "language_info": {
      "codemirror_mode": {
        "name": "ipython",
        "version": 3
      },
      "file_extension": ".py",
      "mimetype": "text/x-python",
      "name": "python",
      "nbconvert_exporter": "python",
      "pygments_lexer": "ipython3",
      "version": "3.12.10"
    },
    "colab": {
      "provenance": []
    }
  },
  "nbformat": 4,
  "nbformat_minor": 0
}